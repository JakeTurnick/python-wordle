{
 "cells": [
  {
   "cell_type": "code",
   "execution_count": null,
   "id": "9488fb51",
   "metadata": {},
   "outputs": [],
   "source": [
    "import random\n",
    "from colorama import Fore, Back, Style, init\n",
    "init(autoreset=True)\n",
    "\n",
    "TEST_WORD = \"apple\"\n",
    "words = open('/usr/share/dict/words', 'r')\n",
    "newWords = []\n",
    "\n",
    "for word in words:\n",
    "    if len(word) == 6:\n",
    "        newWords.append(word)\n",
    "words.close()\n",
    "\n",
    "word = random.choice(newWords).lower().strip()\n",
    "# word = TEST_WORD\n",
    "# print(\"Hint - \" + word)\n",
    "\n",
    "\n",
    "curr_wordle = \"-----\"\n",
    "attemps = -1  # amount of attempts so far\n",
    "print(\"\"\"\\\n",
    "     __    __               _      _       \n",
    "    / / /\\ \\ \\  ___   _ __ | |  __| |  ___ \n",
    "    \\ \\/  \\/ / / _ \\ | '__|| | / _` | / _ \\\\\n",
    "     \\  /\\  / | (_) || |   | || (_| ||  __/\n",
    "      \\/  \\/   \\___/ |_|   |_| \\__,_| \\___|\n",
    "                                     \n",
    "                                     \"\"\")\n",
    "guess = input(Fore.RESET + \"Guess a 5 letter word: \")\n",
    "while len(guess) != 5:\n",
    "    guess = input(Fore.RESET + \"Word must be 5 characters long: \")\n",
    "\n",
    "\n",
    "while attemps < 10:\n",
    "    attemps += 1\n",
    "    attemp = \"\"\n",
    "    guide = \"\"\n",
    "    Style.RESET_ALL\n",
    "\n",
    "    if attemps >= 6:\n",
    "        Fore.RESET\n",
    "        print(f\"You lost! The word was {Fore.RED + word}\")\n",
    "        break\n",
    "\n",
    "    for i in range(0, 5):\n",
    "        if word.__contains__(guess[i]):\n",
    "            if word[i] == guess[i]:\n",
    "                attemp += (Fore.GREEN + guess[i])\n",
    "                guide += (Fore.GREEN + guess[i])\n",
    "                Style.RESET_ALL\n",
    "            # print yellow\n",
    "            else:\n",
    "                attemp += (Fore.YELLOW + guess[i])\n",
    "                guide += (Fore.YELLOW + guess[i])\n",
    "                Style.RESET_ALL\n",
    "        # add character no style\n",
    "        else:\n",
    "            attemp += (Fore.RESET + guess[i])\n",
    "            guide += (Fore.RESET + \"-\")\n",
    "    Fore.RESET\n",
    "\n",
    "    if guess.lower() == word.lower():\n",
    "        print(\"you win!\\nThe word was - \" + Fore.CYAN + guess.lower())\n",
    "        break\n",
    "\n",
    "    print(Fore.RESET + f\"Attempts remaining: {attemps}/6\")\n",
    "    guess = input(Fore.RESET + guide + \"\\n\")\n",
    "    while len(guess) != 5:\n",
    "        guess = input(Fore.RESET + \"Word must be 5 characters long: \")\n"
   ]
  }
 ],
 "metadata": {
  "kernelspec": {
   "display_name": "Python 3.9.6 64-bit",
   "language": "python",
   "name": "python3"
  },
  "language_info": {
   "codemirror_mode": {
    "name": "ipython",
    "version": 3
   },
   "file_extension": ".py",
   "mimetype": "text/x-python",
   "name": "python",
   "nbconvert_exporter": "python",
   "pygments_lexer": "ipython3",
   "version": "3.9.6"
  },
  "vscode": {
   "interpreter": {
    "hash": "31f2aee4e71d21fbe5cf8b01ff0e069b9275f58929596ceb00d14d90e3e16cd6"
   }
  }
 },
 "nbformat": 4,
 "nbformat_minor": 5
}
